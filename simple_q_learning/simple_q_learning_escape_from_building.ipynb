{
 "cells": [
  {
   "cell_type": "markdown",
   "metadata": {},
   "source": [
    "# Simple Q-Learning Example\n",
    "\n",
    "How do I teach a robot to escape a burning building? \n",
    "Implementing this example: http://mnemstudio.org/path-finding-q-learning-tutorial.htm"
   ]
  },
  {
   "cell_type": "code",
   "execution_count": 1,
   "metadata": {
    "ExecuteTime": {
     "end_time": "2018-01-02T21:17:08.316303Z",
     "start_time": "2018-01-02T21:17:07.892255Z"
    },
    "collapsed": true
   },
   "outputs": [],
   "source": [
    "import numpy as np\n",
    "import matplotlib.pyplot as plt"
   ]
  },
  {
   "cell_type": "code",
   "execution_count": 2,
   "metadata": {
    "ExecuteTime": {
     "end_time": "2018-01-02T21:17:17.564236Z",
     "start_time": "2018-01-02T21:17:17.555686Z"
    }
   },
   "outputs": [
    {
     "name": "stdout",
     "output_type": "stream",
     "text": [
      "Python Version: 3.6.2 |Anaconda custom (64-bit)| (default, Sep 21 2017, 18:29:43) \n",
      "[GCC 4.2.1 Compatible Clang 4.0.1 (tags/RELEASE_401/final)] \n",
      "\n",
      "Matplotlib Version: 2.0.2\n",
      "Numpy Version: 1.12.1\n"
     ]
    }
   ],
   "source": [
    "import sys\n",
    "import matplotlib\n",
    "libraries = (('Matplotlib', matplotlib), ('Numpy', np))\n",
    "\n",
    "print(\"Python Version:\", sys.version, '\\n')\n",
    "for lib in libraries:\n",
    "    print('{0} Version: {1}'.format(lib[0], lib[1].__version__))"
   ]
  },
  {
   "cell_type": "markdown",
   "metadata": {},
   "source": [
    "Let's start by taking a look at the house we're trying to escape.\n",
    "\n",
    "<img src=\"http://mnemstudio.org/ai/path/images/modeling_environment_clip_image002a.gif\">\n",
    "\n",
    "So, state 5 is where we need to end up. To do that, we want to create a reward matrix. Which tells us when we've taken a good or a bad action.\n",
    "\n",
    "> -1 = impossible action\n",
    "\n",
    "> 0 = possible action that doesn't directly lead outside\n",
    "\n",
    "> 100 = made it outside"
   ]
  },
  {
   "cell_type": "markdown",
   "metadata": {},
   "source": [
    "Let's set some basic inputs for the whole system."
   ]
  },
  {
   "cell_type": "code",
   "execution_count": 48,
   "metadata": {
    "ExecuteTime": {
     "end_time": "2018-01-02T22:07:09.391351Z",
     "start_time": "2018-01-02T22:07:09.378171Z"
    }
   },
   "outputs": [
    {
     "data": {
      "text/plain": [
       "array([[ -1,  -1,  -1,  -1,   0,  -1],\n",
       "       [ -1,  -1,  -1,   0,  -1, 100],\n",
       "       [ -1,  -1,  -1,   0,  -1,  -1],\n",
       "       [ -1,   0,   0,  -1,   0,  -1],\n",
       "       [  0,  -1,  -1,   0,  -1, 100],\n",
       "       [ -1,   0,  -1,  -1,   0, 100]])"
      ]
     },
     "execution_count": 48,
     "metadata": {},
     "output_type": "execute_result"
    }
   ],
   "source": [
    "reward = np.array([[-1, -1, -1, -1, 0, -1],\n",
    "                   [-1, -1, -1, 0, -1, 100],\n",
    "                   [-1, -1, -1, 0, -1, -1],\n",
    "                   [-1, 0, 0, -1, 0, -1],\n",
    "                   [0, -1, -1, 0, -1, 100],\n",
    "                   [-1, 0, -1, -1, 0, 100]])\n",
    "q_matrix = np.zeros((6,6)) # This functions as the brain for our robot - what it learns is in these rewards\n",
    "future_rewards = 0.5\n",
    "reward"
   ]
  },
  {
   "cell_type": "code",
   "execution_count": 49,
   "metadata": {
    "ExecuteTime": {
     "end_time": "2018-01-02T22:07:09.774123Z",
     "start_time": "2018-01-02T22:07:09.768335Z"
    },
    "collapsed": true
   },
   "outputs": [],
   "source": [
    "def update_robot_brain(q_matrix, future_rewards, current_state, next_state):\n",
    "    \"\"\"\n",
    "    Updates the learned matrix, Q with a simple rule:\n",
    "    Q[i,j] = Reward[i,j] + future_reward_weight*max(Q[i])\n",
    "    \n",
    "    Basically, what is my reward plus what do I already know this \n",
    "    step can lead to in terms of reward.\n",
    "    \"\"\"\n",
    "    q_matrix[current_state, next_state] = reward[current_state, next_state] + future_rewards*np.max(q_matrix[next_state])\n",
    "    return q_matrix"
   ]
  },
  {
   "cell_type": "code",
   "execution_count": 50,
   "metadata": {
    "ExecuteTime": {
     "end_time": "2018-01-02T22:07:10.240307Z",
     "start_time": "2018-01-02T22:07:10.195598Z"
    }
   },
   "outputs": [
    {
     "name": "stdout",
     "output_type": "stream",
     "text": [
      "[3]\n",
      "[1 2 4]\n",
      "[3 5]\n",
      "[1 2 4]\n",
      "[0 3 5]\n",
      "[4]\n",
      "[0 3 5]\n",
      "[1 2 4]\n",
      "[3]\n",
      "[1 2 4]\n",
      "[3 5]\n",
      "---\n",
      "[3]\n",
      "[1 2 4]\n",
      "[0 3 5]\n"
     ]
    },
    {
     "data": {
      "text/plain": [
       "array([[   0.,    0.,    0.,    0.,    0.,    0.],\n",
       "       [   0.,    0.,    0.,    0.,    0.,  100.],\n",
       "       [   0.,    0.,    0.,    0.,    0.,    0.],\n",
       "       [   0.,    0.,    0.,    0.,    0.,    0.],\n",
       "       [   0.,    0.,    0.,    0.,    0.,  100.],\n",
       "       [   0.,    0.,    0.,    0.,    0.,    0.]])"
      ]
     },
     "execution_count": 50,
     "metadata": {},
     "output_type": "execute_result"
    }
   ],
   "source": [
    "def learning_episode(q_matrix, reward, future_rewards=0.5, starting_state=2, verbose=False):\n",
    "    \"\"\"\n",
    "    Start from some random room and move around randomly, figuring out what the reward\n",
    "    for each random step is. Do this until you end up outside of the building. Update\n",
    "    Q along the way to make sure you're learning.\n",
    "    \"\"\"\n",
    "    state = starting_state\n",
    "    while state != 5:\n",
    "        possible_moves = reward[state] >= 0 # this is a true false list of legal moves\n",
    "        legal_moves = np.where(possible_moves)[0] # now we take only legal moves (the [0] selects the legals)\n",
    "        if verbose:\n",
    "            print(legal_moves)\n",
    "        new_state = np.random.choice(legal_moves)\n",
    "        q_matrix = update_robot_brain(q_matrix, future_rewards, state, new_state)\n",
    "        state = new_state\n",
    "    return q_matrix\n",
    "        \n",
    "learning_episode(q_matrix, reward, verbose=True)\n",
    "print('---')\n",
    "learning_episode(q_matrix, reward, verbose=True)"
   ]
  },
  {
   "cell_type": "markdown",
   "metadata": {},
   "source": [
    "Okay, so we have it learning the reward structure for it's actions. Note that right now, there are so many zeros that it's only updating the spots where the next step is a 100. After those start to fill in, the future_rewards will start to fill in smaller values that aren't just \"WE MADE IT TO THE END.\" Now let's let it REALLY learn by setting it to complete tons of episodes, where we randomly initalize where it starts."
   ]
  },
  {
   "cell_type": "code",
   "execution_count": 51,
   "metadata": {
    "ExecuteTime": {
     "end_time": "2018-01-02T22:07:20.387557Z",
     "start_time": "2018-01-02T22:07:19.446129Z"
    }
   },
   "outputs": [
    {
     "data": {
      "text/plain": [
       "array([[   0. ,    0. ,    0. ,    0. ,   50. ,    0. ],\n",
       "       [   0. ,    0. ,    0. ,   25. ,    0. ,  100. ],\n",
       "       [   0. ,    0. ,    0. ,   25. ,    0. ,    0. ],\n",
       "       [   0. ,   50. ,   12.5,    0. ,   50. ,    0. ],\n",
       "       [  25. ,    0. ,    0. ,   25. ,    0. ,  100. ],\n",
       "       [   0. ,    0. ,    0. ,    0. ,    0. ,    0. ]])"
      ]
     },
     "execution_count": 51,
     "metadata": {},
     "output_type": "execute_result"
    }
   ],
   "source": [
    "for episode in range(int(1e4)):\n",
    "    start_state = np.random.randint(6)\n",
    "    q_matrix = learning_episode(q_matrix, reward)\n",
    "    \n",
    "q_matrix"
   ]
  },
  {
   "cell_type": "code",
   "execution_count": 67,
   "metadata": {
    "ExecuteTime": {
     "end_time": "2018-01-02T22:18:53.655390Z",
     "start_time": "2018-01-02T22:18:53.644188Z"
    }
   },
   "outputs": [
    {
     "name": "stdout",
     "output_type": "stream",
     "text": [
      "2\n",
      "3\n",
      "1\n",
      "5\n"
     ]
    }
   ],
   "source": [
    "def take_step(q_matrix, state):\n",
    "    \"\"\"\n",
    "    Figure out which step results in the biggest reward\n",
    "    \"\"\"\n",
    "    return np.argmax(q_matrix[state])\n",
    "\n",
    "def escape_building(q_matrix, state):\n",
    "    \"\"\"\n",
    "    While still in the building, take the rewardiest step from the room \n",
    "    you're in until you escape the building.\n",
    "    \"\"\"\n",
    "    while state != 5:\n",
    "        print(state)\n",
    "        state = take_step(q_matrix, state)\n",
    "    print(state)\n",
    "\n",
    "escape_building(q_matrix, 2)"
   ]
  },
  {
   "cell_type": "code",
   "execution_count": 63,
   "metadata": {
    "ExecuteTime": {
     "end_time": "2018-01-02T22:16:44.170162Z",
     "start_time": "2018-01-02T22:16:43.901401Z"
    }
   },
   "outputs": [
    {
     "data": {
      "image/png": "[encoded data removed]",
      "text/plain": [
       "<matplotlib.figure.Figure at 0x1165f35c0>"
      ]
     },
     "metadata": {},
     "output_type": "display_data"
    }
   ],
   "source": [
    "plt.figure(dpi=150)\n",
    "plt.imshow(q_matrix[:5], cmap=plt.cm.Blues);\n",
    "plt.colorbar();\n",
    "plt.ylabel(\"Current State\")\n",
    "plt.xlabel(\"Next State\")\n",
    "plt.title(\"Transition Strength Between States\");"
   ]
  },
  {
   "cell_type": "code",
   "execution_count": null,
   "metadata": {
    "collapsed": true
   },
   "outputs": [],
   "source": []
  }
 ],
 "metadata": {
  "kernelspec": {
   "display_name": "Python [default]",
   "language": "python",
   "name": "python3"
  },
  "language_info": {
   "codemirror_mode": {
    "name": "ipython",
    "version": 3
   },
   "file_extension": ".py",
   "mimetype": "text/x-python",
   "name": "python",
   "nbconvert_exporter": "python",
   "pygments_lexer": "ipython3",
   "version": "3.6.2"
  },
  "toc": {
   "nav_menu": {},
   "number_sections": true,
   "sideBar": true,
   "skip_h1_title": false,
   "toc_cell": false,
   "toc_position": {},
   "toc_section_display": "block",
   "toc_window_display": false
  }
 },
 "nbformat": 4,
 "nbformat_minor": 2
}
